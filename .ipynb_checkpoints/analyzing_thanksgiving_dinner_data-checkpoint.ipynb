{
 "cells": [
  {
   "cell_type": "markdown",
   "metadata": {
    "collapsed": true
   },
   "source": [
    "# Analyzing American Thanksgiving Dinner data\n",
    "\n",
    "dataset: https://github.com/fivethirtyeight/data/tree/master/thanksgiving-2015"
   ]
  },
  {
   "cell_type": "code",
   "execution_count": 3,
   "metadata": {
    "collapsed": true
   },
   "outputs": [
    {
     "name": "stdout",
     "output_type": "stream",
     "text": [
      "   RespondentID Do you celebrate Thanksgiving?  \\\n",
      "0    4337954960                            Yes   \n",
      "1    4337951949                            Yes   \n",
      "2    4337935621                            Yes   \n",
      "\n",
      "  What is typically the main dish at your Thanksgiving dinner?  \\\n",
      "0                                             Turkey             \n",
      "1                                             Turkey             \n",
      "2                                             Turkey             \n",
      "\n",
      "  What is typically the main dish at your Thanksgiving dinner? - Other (please specify)  \\\n",
      "0                                                NaN                                      \n",
      "1                                                NaN                                      \n",
      "2                                                NaN                                      \n",
      "\n",
      "  How is the main dish typically cooked?  \\\n",
      "0                                  Baked   \n",
      "1                                  Baked   \n",
      "2                                Roasted   \n",
      "\n",
      "  How is the main dish typically cooked? - Other (please specify)  \\\n",
      "0                                                NaN                \n",
      "1                                                NaN                \n",
      "2                                                NaN                \n",
      "\n",
      "  What kind of stuffing/dressing do you typically have?  \\\n",
      "0                                        Bread-based      \n",
      "1                                        Bread-based      \n",
      "2                                         Rice-based      \n",
      "\n",
      "  What kind of stuffing/dressing do you typically have? - Other (please specify)  \\\n",
      "0                                                NaN                               \n",
      "1                                                NaN                               \n",
      "2                                                NaN                               \n",
      "\n",
      "  What type of cranberry saucedo you typically have?  \\\n",
      "0                                               None   \n",
      "1                             Other (please specify)   \n",
      "2                                           Homemade   \n",
      "\n",
      "  What type of cranberry saucedo you typically have? - Other (please specify)  \\\n",
      "0                                                NaN                            \n",
      "1                    Homemade cranberry gelatin ring                            \n",
      "2                                                NaN                            \n",
      "\n",
      "          ...          \\\n",
      "0         ...           \n",
      "1         ...           \n",
      "2         ...           \n",
      "\n",
      "  Have you ever tried to meet up with hometown friends on Thanksgiving night?  \\\n",
      "0                                                Yes                            \n",
      "1                                                 No                            \n",
      "2                                                Yes                            \n",
      "\n",
      "  Have you ever attended a \"Friendsgiving?\"  \\\n",
      "0                                        No   \n",
      "1                                        No   \n",
      "2                                       Yes   \n",
      "\n",
      "  Will you shop any Black Friday sales on Thanksgiving Day?  \\\n",
      "0                                                 No          \n",
      "1                                                Yes          \n",
      "2                                                Yes          \n",
      "\n",
      "  Do you work in retail? Will you employer make you work on Black Friday?  \\\n",
      "0                     No                                              NaN   \n",
      "1                     No                                              NaN   \n",
      "2                     No                                              NaN   \n",
      "\n",
      "  How would you describe where you live?      Age What is your gender?  \\\n",
      "0                               Suburban  18 - 29                 Male   \n",
      "1                                  Rural  18 - 29               Female   \n",
      "2                               Suburban  18 - 29                 Male   \n",
      "\n",
      "  How much total combined money did all members of your HOUSEHOLD earn last year?  \\\n",
      "0                                 $75,000 to $99,999                                \n",
      "1                                 $50,000 to $74,999                                \n",
      "2                                       $0 to $9,999                                \n",
      "\n",
      "            US Region  \n",
      "0     Middle Atlantic  \n",
      "1  East South Central  \n",
      "2            Mountain  \n",
      "\n",
      "[3 rows x 65 columns]\n"
     ]
    }
   ],
   "source": [
    "import pandas as pd\n",
    "\n",
    "data = pd.read_csv('thanksgiving.csv', encoding='Latin-1') # encoding Latin-1 is required \n",
    "print(data.head(3)) # displaying first three rows"
   ]
  },
  {
   "cell_type": "code",
   "execution_count": 4,
   "metadata": {
    "collapsed": true
   },
   "outputs": [
    {
     "name": "stdout",
     "output_type": "stream",
     "text": [
      "Index([u'RespondentID', u'Do you celebrate Thanksgiving?',\n",
      "       u'What is typically the main dish at your Thanksgiving dinner?',\n",
      "       u'What is typically the main dish at your Thanksgiving dinner? - Other (please specify)',\n",
      "       u'How is the main dish typically cooked?',\n",
      "       u'How is the main dish typically cooked? - Other (please specify)',\n",
      "       u'What kind of stuffing/dressing do you typically have?',\n",
      "       u'What kind of stuffing/dressing do you typically have? - Other (please specify)',\n",
      "       u'What type of cranberry saucedo you typically have?',\n",
      "       u'What type of cranberry saucedo you typically have? - Other (please specify)',\n",
      "       u'Do you typically have gravy?',\n",
      "       u'Which of these side dishes aretypically served at your Thanksgiving dinner? Please select all that apply. - Brussel sprouts',\n",
      "       u'Which of these side dishes aretypically served at your Thanksgiving dinner? Please select all that apply. - Carrots',\n",
      "       u'Which of these side dishes aretypically served at your Thanksgiving dinner? Please select all that apply. - Cauliflower',\n",
      "       u'Which of these side dishes aretypically served at your Thanksgiving dinner? Please select all that apply. - Corn',\n",
      "       u'Which of these side dishes aretypically served at your Thanksgiving dinner? Please select all that apply. - Cornbread',\n",
      "       u'Which of these side dishes aretypically served at your Thanksgiving dinner? Please select all that apply. - Fruit salad',\n",
      "       u'Which of these side dishes aretypically served at your Thanksgiving dinner? Please select all that apply. - Green beans/green bean casserole',\n",
      "       u'Which of these side dishes aretypically served at your Thanksgiving dinner? Please select all that apply. - Macaroni and cheese',\n",
      "       u'Which of these side dishes aretypically served at your Thanksgiving dinner? Please select all that apply. - Mashed potatoes',\n",
      "       u'Which of these side dishes aretypically served at your Thanksgiving dinner? Please select all that apply. - Rolls/biscuits',\n",
      "       u'Which of these side dishes aretypically served at your Thanksgiving dinner? Please select all that apply. - Squash',\n",
      "       u'Which of these side dishes aretypically served at your Thanksgiving dinner? Please select all that apply. - Vegetable salad',\n",
      "       u'Which of these side dishes aretypically served at your Thanksgiving dinner? Please select all that apply. - Yams/sweet potato casserole',\n",
      "       u'Which of these side dishes aretypically served at your Thanksgiving dinner? Please select all that apply. - Other (please specify)',\n",
      "       u'Which of these side dishes aretypically served at your Thanksgiving dinner? Please select all that apply. - Other (please specify).1',\n",
      "       u'Which type of pie is typically served at your Thanksgiving dinner? Please select all that apply. - Apple',\n",
      "       u'Which type of pie is typically served at your Thanksgiving dinner? Please select all that apply. - Buttermilk',\n",
      "       u'Which type of pie is typically served at your Thanksgiving dinner? Please select all that apply. - Cherry',\n",
      "       u'Which type of pie is typically served at your Thanksgiving dinner? Please select all that apply. - Chocolate',\n",
      "       u'Which type of pie is typically served at your Thanksgiving dinner? Please select all that apply. - Coconut cream',\n",
      "       u'Which type of pie is typically served at your Thanksgiving dinner? Please select all that apply. - Key lime',\n",
      "       u'Which type of pie is typically served at your Thanksgiving dinner? Please select all that apply. - Peach',\n",
      "       u'Which type of pie is typically served at your Thanksgiving dinner? Please select all that apply. - Pecan',\n",
      "       u'Which type of pie is typically served at your Thanksgiving dinner? Please select all that apply. - Pumpkin',\n",
      "       u'Which type of pie is typically served at your Thanksgiving dinner? Please select all that apply. - Sweet Potato',\n",
      "       u'Which type of pie is typically served at your Thanksgiving dinner? Please select all that apply. - None',\n",
      "       u'Which type of pie is typically served at your Thanksgiving dinner? Please select all that apply. - Other (please specify)',\n",
      "       u'Which type of pie is typically served at your Thanksgiving dinner? Please select all that apply. - Other (please specify).1',\n",
      "       u'Which of these desserts do you typically have at Thanksgiving dinner? Please select all that apply.   - Apple cobbler',\n",
      "       u'Which of these desserts do you typically have at Thanksgiving dinner? Please select all that apply.   - Blondies',\n",
      "       u'Which of these desserts do you typically have at Thanksgiving dinner? Please select all that apply.   - Brownies',\n",
      "       u'Which of these desserts do you typically have at Thanksgiving dinner? Please select all that apply.   - Carrot cake',\n",
      "       u'Which of these desserts do you typically have at Thanksgiving dinner? Please select all that apply.   - Cheesecake',\n",
      "       u'Which of these desserts do you typically have at Thanksgiving dinner? Please select all that apply.   - Cookies',\n",
      "       u'Which of these desserts do you typically have at Thanksgiving dinner? Please select all that apply.   - Fudge',\n",
      "       u'Which of these desserts do you typically have at Thanksgiving dinner? Please select all that apply.   - Ice cream',\n",
      "       u'Which of these desserts do you typically have at Thanksgiving dinner? Please select all that apply.   - Peach cobbler',\n",
      "       u'Which of these desserts do you typically have at Thanksgiving dinner? Please select all that apply.   - None',\n",
      "       u'Which of these desserts do you typically have at Thanksgiving dinner? Please select all that apply.   - Other (please specify)',\n",
      "       u'Which of these desserts do you typically have at Thanksgiving dinner? Please select all that apply.   - Other (please specify).1',\n",
      "       u'Do you typically pray before or after the Thanksgiving meal?',\n",
      "       u'How far will you travel for Thanksgiving?',\n",
      "       u'Will you watch any of the following programs on Thanksgiving? Please select all that apply. - Macy's Parade',\n",
      "       u'What's the age cutoff at your \"kids' table\" at Thanksgiving?',\n",
      "       u'Have you ever tried to meet up with hometown friends on Thanksgiving night?',\n",
      "       u'Have you ever attended a \"Friendsgiving?\"',\n",
      "       u'Will you shop any Black Friday sales on Thanksgiving Day?',\n",
      "       u'Do you work in retail?',\n",
      "       u'Will you employer make you work on Black Friday?',\n",
      "       u'How would you describe where you live?', u'Age',\n",
      "       u'What is your gender?',\n",
      "       u'How much total combined money did all members of your HOUSEHOLD earn last year?',\n",
      "       u'US Region'],\n",
      "      dtype='object')\n"
     ]
    }
   ],
   "source": [
    "print(data.columns) # printing all column names of the dataframe"
   ]
  },
  {
   "cell_type": "code",
   "execution_count": 5,
   "metadata": {
    "collapsed": false
   },
   "outputs": [
    {
     "name": "stdout",
     "output_type": "stream",
     "text": [
      "Yes    980\n",
      "No      78\n",
      "Name: Do you celebrate Thanksgiving?, dtype: int64\n"
     ]
    }
   ],
   "source": [
    "# how many times each category (yes/no) occurs\n",
    "print(data['Do you celebrate Thanksgiving?'].value_counts())"
   ]
  },
  {
   "cell_type": "code",
   "execution_count": 6,
   "metadata": {
    "collapsed": false
   },
   "outputs": [],
   "source": [
    "# filtering out information pertaining to people who do not celebrate Thanksgiving\n",
    "yes_data = data['Do you celebrate Thanksgiving?'] == 'Yes'\n",
    "data = data.loc[yes_data]\n"
   ]
  },
  {
   "cell_type": "markdown",
   "metadata": {},
   "source": [
    "# Exploring main dishes at Thanksgiving"
   ]
  },
  {
   "cell_type": "code",
   "execution_count": 7,
   "metadata": {
    "collapsed": false
   },
   "outputs": [
    {
     "name": "stdout",
     "output_type": "stream",
     "text": [
      "Turkey                    859\n",
      "Other (please specify)     35\n",
      "Ham/Pork                   29\n",
      "Tofurkey                   20\n",
      "Chicken                    12\n",
      "Roast beef                 11\n",
      "I don't know                5\n",
      "Turducken                   3\n",
      "Name: What is typically the main dish at your Thanksgiving dinner?, dtype: int64\n"
     ]
    }
   ],
   "source": [
    "# looking at what people have as main dishes during Thanksgiving\n",
    "print(data['What is typically the main dish at your Thanksgiving dinner?'].value_counts())"
   ]
  },
  {
   "cell_type": "code",
   "execution_count": 16,
   "metadata": {
    "collapsed": true
   },
   "outputs": [
    {
     "name": "stdout",
     "output_type": "stream",
     "text": [
      "     RespondentID Do you celebrate Thanksgiving?  \\\n",
      "4      4337931983                            Yes   \n",
      "33     4337771439                            Yes   \n",
      "69     4337553422                            Yes   \n",
      "72     4337540484                            Yes   \n",
      "77     4337490067                            Yes   \n",
      "145    4337191550                            Yes   \n",
      "175    4337139327                            Yes   \n",
      "218    4337078951                            Yes   \n",
      "243    4337044348                            Yes   \n",
      "275    4336997445                            Yes   \n",
      "393    4336894719                            Yes   \n",
      "399    4336891075                            Yes   \n",
      "571    4336760110                            Yes   \n",
      "594    4336736562                            Yes   \n",
      "628    4336692873                            Yes   \n",
      "774    4336400854                            Yes   \n",
      "820    4336238126                            Yes   \n",
      "837    4336175740                            Yes   \n",
      "860    4336121663                            Yes   \n",
      "953    4336005220                            Yes   \n",
      "\n",
      "    What is typically the main dish at your Thanksgiving dinner?  \\\n",
      "4                                             Tofurkey             \n",
      "33                                            Tofurkey             \n",
      "69                                            Tofurkey             \n",
      "72                                            Tofurkey             \n",
      "77                                            Tofurkey             \n",
      "145                                           Tofurkey             \n",
      "175                                           Tofurkey             \n",
      "218                                           Tofurkey             \n",
      "243                                           Tofurkey             \n",
      "275                                           Tofurkey             \n",
      "393                                           Tofurkey             \n",
      "399                                           Tofurkey             \n",
      "571                                           Tofurkey             \n",
      "594                                           Tofurkey             \n",
      "628                                           Tofurkey             \n",
      "774                                           Tofurkey             \n",
      "820                                           Tofurkey             \n",
      "837                                           Tofurkey             \n",
      "860                                           Tofurkey             \n",
      "953                                           Tofurkey             \n",
      "\n",
      "    What is typically the main dish at your Thanksgiving dinner? - Other (please specify)  \\\n",
      "4                                                  NaN                                      \n",
      "33                                                 NaN                                      \n",
      "69                                                 NaN                                      \n",
      "72                                                 NaN                                      \n",
      "77                                                 NaN                                      \n",
      "145                                                NaN                                      \n",
      "175                                                NaN                                      \n",
      "218                                                NaN                                      \n",
      "243                                                NaN                                      \n",
      "275                                                NaN                                      \n",
      "393                                                NaN                                      \n",
      "399                                                NaN                                      \n",
      "571                                                NaN                                      \n",
      "594                                                NaN                                      \n",
      "628                                                NaN                                      \n",
      "774                                                NaN                                      \n",
      "820                                                NaN                                      \n",
      "837                                                NaN                                      \n",
      "860                                                NaN                                      \n",
      "953                                                NaN                                      \n",
      "\n",
      "    How is the main dish typically cooked?  \\\n",
      "4                                    Baked   \n",
      "33                                   Baked   \n",
      "69                                   Baked   \n",
      "72                            I don't know   \n",
      "77                                 Roasted   \n",
      "145                                  Baked   \n",
      "175                                  Baked   \n",
      "218                                  Baked   \n",
      "243                 Other (please specify)   \n",
      "275                                  Baked   \n",
      "393                                Roasted   \n",
      "399                                Roasted   \n",
      "571                                Roasted   \n",
      "594                                  Baked   \n",
      "628                                  Baked   \n",
      "774                                  Baked   \n",
      "820                                  Baked   \n",
      "837                                  Baked   \n",
      "860                                  Baked   \n",
      "953                                  Baked   \n",
      "\n",
      "    How is the main dish typically cooked? - Other (please specify)  \\\n",
      "4                                                  NaN                \n",
      "33                                                 NaN                \n",
      "69                                                 NaN                \n",
      "72                                                 NaN                \n",
      "77                                                 NaN                \n",
      "145                                                NaN                \n",
      "175                                                NaN                \n",
      "218                                                NaN                \n",
      "243                                       various ways                \n",
      "275                                                NaN                \n",
      "393                                                NaN                \n",
      "399                                                NaN                \n",
      "571                                                NaN                \n",
      "594                                                NaN                \n",
      "628                                                NaN                \n",
      "774                                                NaN                \n",
      "820                                                NaN                \n",
      "837                                                NaN                \n",
      "860                                                NaN                \n",
      "953                                                NaN                \n",
      "\n",
      "    What kind of stuffing/dressing do you typically have?  \\\n",
      "4                                          Bread-based      \n",
      "33                                         Bread-based      \n",
      "69                                         Bread-based      \n",
      "72                                         Bread-based      \n",
      "77                                                None      \n",
      "145                                        Bread-based      \n",
      "175                                        Bread-based      \n",
      "218                                        Bread-based      \n",
      "243                                        Bread-based      \n",
      "275                                        Bread-based      \n",
      "393                                        Bread-based      \n",
      "399                                        Bread-based      \n",
      "571                                        Bread-based      \n",
      "594                                        Bread-based      \n",
      "628                                               None      \n",
      "774                                        Bread-based      \n",
      "820                                        Bread-based      \n",
      "837                                               None      \n",
      "860                                         Rice-based      \n",
      "953                                        Bread-based      \n",
      "\n",
      "    What kind of stuffing/dressing do you typically have? - Other (please specify)  \\\n",
      "4                                                  NaN                               \n",
      "33                                                 NaN                               \n",
      "69                                                 NaN                               \n",
      "72                                                 NaN                               \n",
      "77                                                 NaN                               \n",
      "145                                                NaN                               \n",
      "175                                                NaN                               \n",
      "218                                                NaN                               \n",
      "243                                                NaN                               \n",
      "275                                                NaN                               \n",
      "393                                                NaN                               \n",
      "399                                                NaN                               \n",
      "571                                                NaN                               \n",
      "594                                                NaN                               \n",
      "628                                                NaN                               \n",
      "774                                                NaN                               \n",
      "820                                                NaN                               \n",
      "837                                                NaN                               \n",
      "860                                                NaN                               \n",
      "953                                                NaN                               \n",
      "\n",
      "    What type of cranberry saucedo you typically have?  \\\n",
      "4                                               Canned   \n",
      "33                                            Homemade   \n",
      "69                                              Canned   \n",
      "72                                                None   \n",
      "77                                                None   \n",
      "145                                             Canned   \n",
      "175                                           Homemade   \n",
      "218                                             Canned   \n",
      "243                                             Canned   \n",
      "275                                               None   \n",
      "393                                             Canned   \n",
      "399                                           Homemade   \n",
      "571                                               None   \n",
      "594                                               None   \n",
      "628                                           Homemade   \n",
      "774                                             Canned   \n",
      "820                                           Homemade   \n",
      "837                                               None   \n",
      "860                             Other (please specify)   \n",
      "953                                           Homemade   \n",
      "\n",
      "    What type of cranberry saucedo you typically have? - Other (please specify)  \\\n",
      "4                                                  NaN                            \n",
      "33                                                 NaN                            \n",
      "69                                                 NaN                            \n",
      "72                                                 NaN                            \n",
      "77                                                 NaN                            \n",
      "145                                                NaN                            \n",
      "175                                                NaN                            \n",
      "218                                                NaN                            \n",
      "243                                                NaN                            \n",
      "275                                                NaN                            \n",
      "393                                                NaN                            \n",
      "399                                                NaN                            \n",
      "571                                                NaN                            \n",
      "594                                                NaN                            \n",
      "628                                                NaN                            \n",
      "774                                                NaN                            \n",
      "820                                                NaN                            \n",
      "837                                                NaN                            \n",
      "860                     freshly made at a deli counter                            \n",
      "953                                                NaN                            \n",
      "\n",
      "       ...     Will you shop any Black Friday sales on Thanksgiving Day?  \\\n",
      "4      ...                                                     No          \n",
      "33     ...                                                     No          \n",
      "69     ...                                                     No          \n",
      "72     ...                                                    Yes          \n",
      "77     ...                                                     No          \n",
      "145    ...                                                     No          \n",
      "175    ...                                                     No          \n",
      "218    ...                                                     No          \n",
      "243    ...                                                     No          \n",
      "275    ...                                                     No          \n",
      "393    ...                                                    Yes          \n",
      "399    ...                                                     No          \n",
      "571    ...                                                     No          \n",
      "594    ...                                                     No          \n",
      "628    ...                                                    Yes          \n",
      "774    ...                                                     No          \n",
      "820    ...                                                     No          \n",
      "837    ...                                                    Yes          \n",
      "860    ...                                                     No          \n",
      "953    ...                                                     No          \n",
      "\n",
      "    Do you work in retail? Will you employer make you work on Black Friday?  \\\n",
      "4                       No                                              NaN   \n",
      "33                      No                                              NaN   \n",
      "69                      No                                              NaN   \n",
      "72                      No                                              NaN   \n",
      "77                      No                                              NaN   \n",
      "145                     No                                              NaN   \n",
      "175                     No                                              NaN   \n",
      "218                     No                                              NaN   \n",
      "243                     No                                              NaN   \n",
      "275                     No                                              NaN   \n",
      "393                     No                                              NaN   \n",
      "399                     No                                              NaN   \n",
      "571                     No                                              NaN   \n",
      "594                     No                                              NaN   \n",
      "628                     No                                              NaN   \n",
      "774                    Yes                                              Yes   \n",
      "820                     No                                              NaN   \n",
      "837                    Yes                                               No   \n",
      "860                     No                                              NaN   \n",
      "953                     No                                              NaN   \n",
      "\n",
      "    How would you describe where you live?      Age What is your gender?  \\\n",
      "4                                    Urban  30 - 44                 Male   \n",
      "33                                Suburban  30 - 44                 Male   \n",
      "69                                   Urban  18 - 29                 Male   \n",
      "72                                Suburban  18 - 29                 Male   \n",
      "77                                   Urban  30 - 44                 Male   \n",
      "145                                  Urban  30 - 44               Female   \n",
      "175                                  Rural  30 - 44               Female   \n",
      "218                               Suburban  30 - 44               Female   \n",
      "243                                  Urban      60+               Female   \n",
      "275                                  Urban  30 - 44                 Male   \n",
      "393                                  Rural  18 - 29               Female   \n",
      "399                               Suburban      60+               Female   \n",
      "571                               Suburban  18 - 29               Female   \n",
      "594                                  Rural  45 - 59               Female   \n",
      "628                               Suburban      60+               Female   \n",
      "774                               Suburban  45 - 59               Female   \n",
      "820                                  Urban  18 - 29               Female   \n",
      "837                               Suburban  18 - 29               Female   \n",
      "860                                  Urban  30 - 44               Female   \n",
      "953                               Suburban  30 - 44                 Male   \n",
      "\n",
      "    How much total combined money did all members of your HOUSEHOLD earn last year?  \\\n",
      "4                                 $100,000 to $124,999                                \n",
      "33                                  $50,000 to $74,999                                \n",
      "69                                  $10,000 to $24,999                                \n",
      "72                                Prefer not to answer                                \n",
      "77                                Prefer not to answer                                \n",
      "145                               $125,000 to $149,999                                \n",
      "175                                 $75,000 to $99,999                                \n",
      "218                                    $200,000 and up                                \n",
      "243                               $100,000 to $124,999                                \n",
      "275                               $100,000 to $124,999                                \n",
      "393                                 $25,000 to $49,999                                \n",
      "399                               $125,000 to $149,999                                \n",
      "571                               Prefer not to answer                                \n",
      "594                               $175,000 to $199,999                                \n",
      "628                                 $25,000 to $49,999                                \n",
      "774                                 $75,000 to $99,999                                \n",
      "820                                 $10,000 to $24,999                                \n",
      "837                                 $25,000 to $49,999                                \n",
      "860                                 $25,000 to $49,999                                \n",
      "953                                       $0 to $9,999                                \n",
      "\n",
      "              US Region int_age int_income  \n",
      "4               Pacific    30.0   100000.0  \n",
      "33      Middle Atlantic    30.0    50000.0  \n",
      "69   West South Central    18.0    10000.0  \n",
      "72              Pacific    18.0        NaN  \n",
      "77   East North Central    30.0        NaN  \n",
      "145  West South Central    30.0   125000.0  \n",
      "175  West North Central    30.0    75000.0  \n",
      "218            Mountain    30.0   200000.0  \n",
      "243      South Atlantic    60.0   100000.0  \n",
      "275     Middle Atlantic    30.0   100000.0  \n",
      "393         New England    18.0    25000.0  \n",
      "399      South Atlantic    60.0   125000.0  \n",
      "571      South Atlantic    18.0        NaN  \n",
      "594     Middle Atlantic    45.0   175000.0  \n",
      "628     Middle Atlantic    60.0    25000.0  \n",
      "774            Mountain    45.0    75000.0  \n",
      "820             Pacific    18.0    10000.0  \n",
      "837  West North Central    18.0    25000.0  \n",
      "860             Pacific    30.0    25000.0  \n",
      "953     Middle Atlantic    30.0        0.0  \n",
      "\n",
      "[20 rows x 67 columns]\n"
     ]
    }
   ],
   "source": [
    "# Only those who have Tofurkey for dinner\n",
    "print(data[data['What is typically the main dish at your Thanksgiving dinner?'] == 'Tofurkey'])\n",
    "\n",
    "# print(data['Do you typically have gravy?'])"
   ]
  },
  {
   "cell_type": "markdown",
   "metadata": {},
   "source": [
    "# Exploring what type of pies people eat"
   ]
  },
  {
   "cell_type": "code",
   "execution_count": 9,
   "metadata": {
    "collapsed": false
   },
   "outputs": [
    {
     "name": "stdout",
     "output_type": "stream",
     "text": [
      "False    876\n",
      "True     104\n",
      "dtype: int64\n"
     ]
    }
   ],
   "source": [
    "# defining the column titles\n",
    "apple_pie_column_name = 'Which type of pie is typically served at your Thanksgiving dinner? Please select all that apply. - Apple'\n",
    "pumpkin_pie_column_name = 'Which type of pie is typically served at your Thanksgiving dinner? Please select all that apply. - Pumpkin'\n",
    "pecan_pie_column_name = 'Which type of pie is typically served at your Thanksgiving dinner? Please select all that apply. - Pecan'\n",
    "\n",
    "# getting rows where each 'pie' columns had null values\n",
    "apple_isnull = data[apple_pie_column_name].isnull()\n",
    "pumpkin_isnull = data[pumpkin_pie_column_name].isnull()\n",
    "pecan_isnull = data[pecan_pie_column_name].isnull()\n",
    "\n",
    "# combining the previous selections to generate boolean indexes \n",
    "ate_pies = apple_isnull & pumpkin_isnull & pecan_isnull\n",
    "\n",
    "# displaying unique values and how many times they occured\n",
    "print(ate_pies.value_counts())"
   ]
  },
  {
   "cell_type": "markdown",
   "metadata": {},
   "source": [
    "# Converting age data to numeric values\n"
   ]
  },
  {
   "cell_type": "code",
   "execution_count": 10,
   "metadata": {
    "collapsed": false
   },
   "outputs": [
    {
     "data": {
      "text/plain": [
       "count    947.000000\n",
       "mean      40.089757\n",
       "std       15.352014\n",
       "min       18.000000\n",
       "25%       30.000000\n",
       "50%       45.000000\n",
       "75%       60.000000\n",
       "max       60.000000\n",
       "Name: int_age, dtype: float64"
      ]
     },
     "execution_count": 10,
     "metadata": {},
     "output_type": "execute_result"
    }
   ],
   "source": [
    "\n",
    "def get_int_age(age_str):\n",
    "    \"\"\"\n",
    "    Converts an age value in string format to integer.\n",
    "    Args:\n",
    "        age_str (str): the age string to convert to integer.\n",
    "    Returns:\n",
    "        int: the converted integer value corresponding to age_str\n",
    "    \"\"\"\n",
    "    \n",
    "    if pd.isnull(age_str):\n",
    "        return None\n",
    "    \n",
    "    age_str = age_str.split(' ')[0]\n",
    "    age_str = age_str.replace('+', ' ')\n",
    "    \n",
    "    return int(age_str)\n",
    "\n",
    "# applying the get_int_age function on the Age column and assigning them to the new int_age column in Data\n",
    "data['int_age'] = data['Age'].apply(get_int_age)\n",
    "\n",
    "data['int_age'].describe()\n",
    "\n"
   ]
  },
  {
   "cell_type": "markdown",
   "metadata": {},
   "source": [
    "# Findings\n",
    "\n",
    "The age is skewed toward the lower bound since only the lower bounds of the age ranges were taken"
   ]
  },
  {
   "cell_type": "markdown",
   "metadata": {},
   "source": [
    "# Converting income data to numeric values"
   ]
  },
  {
   "cell_type": "code",
   "execution_count": 11,
   "metadata": {
    "collapsed": false
   },
   "outputs": [
    {
     "name": "stdout",
     "output_type": "stream",
     "text": [
      "count       829.000000\n",
      "mean      75965.018094\n",
      "std       59068.636748\n",
      "min           0.000000\n",
      "25%       25000.000000\n",
      "50%       75000.000000\n",
      "75%      100000.000000\n",
      "max      200000.000000\n",
      "Name: int_income, dtype: float64\n"
     ]
    }
   ],
   "source": [
    "def get_int_income(income_str):\n",
    "    \"\"\"\n",
    "    Converts an income value in string format to integer.\n",
    "    Args:\n",
    "        income_str (str): the age string to convert to integer.\n",
    "    Returns:\n",
    "        int: the converted integer value corresponding to income_str\n",
    "    \"\"\"\n",
    "    if pd.isnull(income_str):\n",
    "        return None\n",
    "    \n",
    "    income_str = income_str.split(' ')[0]\n",
    "    \n",
    "    # if the user did not prefer to disclose this information\n",
    "    if income_str == 'Prefer':\n",
    "        return None\n",
    "    \n",
    "    income_str = income_str.replace('$', ' ')\n",
    "    income_str = income_str.replace(',', '')\n",
    "    \n",
    "    return int(income_str)\n",
    "\n",
    "data['int_income'] = data['How much total combined money did all members of your HOUSEHOLD earn last year?'].apply(get_int_income)\n",
    "\n",
    "print(data['int_income'].describe())\n",
    "    "
   ]
  },
  {
   "cell_type": "markdown",
   "metadata": {},
   "source": [
    "# Findings\n",
    "\n",
    "Once again, the values are skewed toward the lower bounds, since we ignored the upper bounds. The incomes deviate a lot, although the average is income is high."
   ]
  },
  {
   "cell_type": "code",
   "execution_count": 12,
   "metadata": {
    "collapsed": false
   },
   "outputs": [
    {
     "name": "stdout",
     "output_type": "stream",
     "text": [
      "Thanksgiving is happening at my home--I won't travel at all                         281\n",
      "Thanksgiving is local--it will take place in the town I live in                     203\n",
      "Thanksgiving is out of town but not too far--it's a drive of a few hours or less    150\n",
      "Thanksgiving is out of town and far away--I have to drive several hours or fly       55\n",
      "Name: How far will you travel for Thanksgiving?, dtype: int64\n"
     ]
    }
   ],
   "source": [
    "# selecting those with income less than 150k\n",
    "income_below_150k = data[data['int_income'] < 150000]\n",
    "\n",
    "\n",
    "# number of entries per category\n",
    "print(income_below_150k['How far will you travel for Thanksgiving?'].value_counts())"
   ]
  },
  {
   "cell_type": "code",
   "execution_count": 13,
   "metadata": {
    "collapsed": false
   },
   "outputs": [
    {
     "name": "stdout",
     "output_type": "stream",
     "text": [
      "Thanksgiving is happening at my home--I won't travel at all                         49\n",
      "Thanksgiving is local--it will take place in the town I live in                     25\n",
      "Thanksgiving is out of town but not too far--it's a drive of a few hours or less    16\n",
      "Thanksgiving is out of town and far away--I have to drive several hours or fly      12\n",
      "Name: How far will you travel for Thanksgiving?, dtype: int64\n"
     ]
    }
   ],
   "source": [
    "#selecting those wiht income above 150k\n",
    "income_above_150k = data[ data['int_income'] > 150000] \n",
    "\n",
    "# number of entries per category\n",
    "print(income_above_150k['How far will you travel for Thanksgiving?'].value_counts())"
   ]
  },
  {
   "cell_type": "markdown",
   "metadata": {},
   "source": [
    "# Findings\n",
    "\n",
    "For both groups (earning over 150k and below 150k), the ratio of people who did not travel far to those who did is higher."
   ]
  },
  {
   "cell_type": "markdown",
   "metadata": {},
   "source": [
    "# Linking friendship and age\n"
   ]
  },
  {
   "cell_type": "code",
   "execution_count": 14,
   "metadata": {
    "collapsed": false
   },
   "outputs": [
    {
     "data": {
      "text/html": [
       "<div>\n",
       "<table border=\"1\" class=\"dataframe\">\n",
       "  <thead>\n",
       "    <tr style=\"text-align: right;\">\n",
       "      <th>Have you ever attended a \"Friendsgiving?\"</th>\n",
       "      <th>No</th>\n",
       "      <th>Yes</th>\n",
       "    </tr>\n",
       "    <tr>\n",
       "      <th>Have you ever tried to meet up with hometown friends on Thanksgiving night?</th>\n",
       "      <th></th>\n",
       "      <th></th>\n",
       "    </tr>\n",
       "  </thead>\n",
       "  <tbody>\n",
       "    <tr>\n",
       "      <th>No</th>\n",
       "      <td>42.283702</td>\n",
       "      <td>37.010526</td>\n",
       "    </tr>\n",
       "    <tr>\n",
       "      <th>Yes</th>\n",
       "      <td>41.475410</td>\n",
       "      <td>33.976744</td>\n",
       "    </tr>\n",
       "  </tbody>\n",
       "</table>\n",
       "</div>"
      ],
      "text/plain": [
       "Have you ever attended a \"Friendsgiving?\"                  No        Yes\n",
       "Have you ever tried to meet up with hometown fr...                      \n",
       "No                                                  42.283702  37.010526\n",
       "Yes                                                 41.475410  33.976744"
      ]
     },
     "execution_count": 14,
     "metadata": {},
     "output_type": "execute_result"
    }
   ],
   "source": [
    "import numpy as np\n",
    "friend_meets = 'Have you ever tried to meet up with hometown friends on Thanksgiving night?'\n",
    "friends_giving = 'Have you ever attended a \"Friendsgiving?\"'\n",
    "\n",
    "data.pivot_table(index=friend_meets, columns=friends_giving, values='int_age', aggfunc=np.mean)\n"
   ]
  },
  {
   "cell_type": "code",
   "execution_count": 15,
   "metadata": {
    "collapsed": false
   },
   "outputs": [
    {
     "data": {
      "text/html": [
       "<div>\n",
       "<table border=\"1\" class=\"dataframe\">\n",
       "  <thead>\n",
       "    <tr style=\"text-align: right;\">\n",
       "      <th>Have you ever attended a \"Friendsgiving?\"</th>\n",
       "      <th>No</th>\n",
       "      <th>Yes</th>\n",
       "    </tr>\n",
       "    <tr>\n",
       "      <th>Have you ever tried to meet up with hometown friends on Thanksgiving night?</th>\n",
       "      <th></th>\n",
       "      <th></th>\n",
       "    </tr>\n",
       "  </thead>\n",
       "  <tbody>\n",
       "    <tr>\n",
       "      <th>No</th>\n",
       "      <td>78914.549654</td>\n",
       "      <td>72894.736842</td>\n",
       "    </tr>\n",
       "    <tr>\n",
       "      <th>Yes</th>\n",
       "      <td>78750.000000</td>\n",
       "      <td>66019.736842</td>\n",
       "    </tr>\n",
       "  </tbody>\n",
       "</table>\n",
       "</div>"
      ],
      "text/plain": [
       "Have you ever attended a \"Friendsgiving?\"                     No           Yes\n",
       "Have you ever tried to meet up with hometown fr...                            \n",
       "No                                                  78914.549654  72894.736842\n",
       "Yes                                                 78750.000000  66019.736842"
      ]
     },
     "execution_count": 15,
     "metadata": {},
     "output_type": "execute_result"
    }
   ],
   "source": [
    "data.pivot_table(index=friend_meets, columns=friends_giving, values='int_income', aggfunc=np.mean)"
   ]
  },
  {
   "cell_type": "markdown",
   "metadata": {},
   "source": [
    "# Findings\n",
    "\n",
    "It can be seen that younger people tend to attend 'friendsgiving' and meet up with hometworn friends on Thanksgiving night as expected. Also, these people have relatively low income."
   ]
  }
 ],
 "metadata": {
  "kernelspec": {
   "display_name": "Python [Root]",
   "language": "python",
   "name": "Python [Root]"
  },
  "language_info": {
   "codemirror_mode": {
    "name": "ipython",
    "version": 2
   },
   "file_extension": ".py",
   "mimetype": "text/x-python",
   "name": "python",
   "nbconvert_exporter": "python",
   "pygments_lexer": "ipython2",
   "version": "2.7.12"
  }
 },
 "nbformat": 4,
 "nbformat_minor": 0
}
